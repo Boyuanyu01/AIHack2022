{
 "cells": [
  {
   "cell_type": "code",
   "execution_count": 2,
   "id": "798059f5-4ed9-4763-af8b-1e6517939092",
   "metadata": {},
   "outputs": [],
   "source": [
    "import h5py\n",
    "from fastai.vision.all import *"
   ]
  },
  {
   "cell_type": "code",
   "execution_count": null,
   "id": "afa87db9-9946-4122-a0e4-34346ba5f88a",
   "metadata": {},
   "outputs": [],
   "source": []
  }
 ],
 "metadata": {
  "kernelspec": {
   "display_name": "Python 3 (ipykernel)",
   "language": "python",
   "name": "python3"
  },
  "language_info": {
   "codemirror_mode": {
    "name": "ipython",
    "version": 3
   },
   "file_extension": ".py",
   "mimetype": "text/x-python",
   "name": "python",
   "nbconvert_exporter": "python",
   "pygments_lexer": "ipython3",
   "version": "3.8.12"
  }
 },
 "nbformat": 4,
 "nbformat_minor": 5
}
